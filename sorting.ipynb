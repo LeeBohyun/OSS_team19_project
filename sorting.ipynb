{
 "cells": [
  {
   "cell_type": "code",
   "execution_count": 1,
   "metadata": {},
   "outputs": [],
   "source": [
    "import pandas_datareader.data as web\n",
    "import datetime\n",
    "import pandas as pd\n",
    "import pandas_datareader as pdr\n",
    "import numpy as np\n",
    "import pickle\n",
    "from sklearn.linear_model import LogisticRegression"
   ]
  },
  {
   "cell_type": "code",
   "execution_count": 2,
   "metadata": {},
   "outputs": [],
   "source": [
    "class x_y:\n",
    "    def __init__(self,days):\n",
    "        with open('stock_list.pickle','rb') as f:\n",
    "            stock_list = pickle.load(f)\n",
    "        pass_fail = []\n",
    "        for stock in stock_list:\n",
    "            try:\n",
    "                stock.get_data(days)\n",
    "                pass_fail.append(True)\n",
    "            except:\n",
    "                pass_fail.append(False)\n",
    "        x_with_zeros= np.zeros(shape=(np.sum(pass_fail),days*2),dtype=np.int)\n",
    "        y=[]\n",
    "        idx=0\n",
    "        for idx, s in enumerate(stock_list):\n",
    "            if pass_fail[idx]:\n",
    "                try:\n",
    "                    x_with_zeros[idx,:] = list(list(s.open_list[:-1].values)+list(s.volume_list[:-1].values))\n",
    "                    y.append(s.increase)\n",
    "                except:\n",
    "                    pass\n",
    "                idx+=1\n",
    "        x= np.zeros(shape=(len(y),days*2),dtype=np.int)\n",
    "        zero_num=0\n",
    "        for idx, x_ in enumerate(x_with_zeros):\n",
    "            if np.sum(x_)==0:\n",
    "                pass\n",
    "            else:\n",
    "                x[zero_num,:] = x_\n",
    "                zero_num+=1\n",
    "        self.x = x\n",
    "        self.y = y\n",
    "        self.days=days\n",
    "\n",
    "class stock_bot:\n",
    "    def __init__(self,x,y,days):\n",
    "        self.org_x = x.copy()\n",
    "        self.org_y = y.copy()\n",
    "        self.days = days\n",
    "        self.x = x.copy()\n",
    "        self.y = y.copy()\n",
    "    def set_org(self):\n",
    "        self.x = self.org_x\n",
    "        self.y = self.org_y\n",
    "    def set_x_price_par(self,p):\n",
    "        self.x[:,:self.days] = self.org_x[:,:self.days]*p\n",
    "    def set_x_volume_par(self,p):\n",
    "        self.x[:,self.days:] = self.org_x[:,self.days:]*p\n",
    "    def ret_clf(self):\n",
    "        return LogisticRegression(random_state=0).fit(self.x,self.y)\n",
    "\n",
    "class stock_bot_final:\n",
    "    def __init__(self,days,p1,p2):\n",
    "        self.xy = x_y(days)\n",
    "        self.sb = stock_bot(self.xy.x,self.xy.y,self.xy.days)\n",
    "        self.sb.set_x_price_par(p1)\n",
    "        self.sb.set_x_volume_par(p2)\n",
    "    def ret_clf(self):\n",
    "        self.clf= LogisticRegression(random_state=0).fit(self.sb.x,self.sb.y)\n",
    "        return self.clf\n",
    "    def validate(self):\n",
    "        right=0\n",
    "        wrong = 0 \n",
    "        for idx, x_ in enumerate(self.xy.x):\n",
    "            if(self.clf.predict(x_.reshape(1,-1))[0]==self.xy.y[idx]):\n",
    "                right+=1\n",
    "            else:\n",
    "                wrong+=1\n",
    "        print(right,wrong)        "
   ]
  },
  {
   "cell_type": "code",
   "execution_count": 3,
   "metadata": {},
   "outputs": [],
   "source": [
    "class stock:\n",
    "    def __init__(self,code,gs):\n",
    "        self.code = code\n",
    "        self.gs = gs\n",
    "    def get_data(self,days):\n",
    "        self.open_list = self.gs['Open'][-days-1:]\n",
    "        self.volume_list = self.gs['Volume'][-days-1:]\n",
    "        if self.open_list[-2] < self.open_list[-1]:\n",
    "            self.increase = True\n",
    "        else:\n",
    "            self.increase = False\n",
    "\n",
    "class sample_obj:\n",
    "    def __init__(self,stock_list,num):\n",
    "        self.sample_stocks = stock_list[:num]\n",
    "        self.stock_list = stock_list\n",
    "    def get_data(self,days):\n",
    "        for s in self.sample_stocks:\n",
    "            s.get_data(days)\n",
    "    def get_xy(self,days):\n",
    "        stock_list = self.sample_stocks\n",
    "        pass_fail = []\n",
    "        for stock in stock_list:\n",
    "            try:\n",
    "                stock.get_data(days)\n",
    "                pass_fail.append(True)\n",
    "            except:\n",
    "                pass_fail.append(False)\n",
    "        x_with_zeros= np.zeros(shape=(np.sum(pass_fail),days*2),dtype=np.int)\n",
    "        y=[]\n",
    "        idx=0\n",
    "        for idx, s in enumerate(stock_list):\n",
    "            if pass_fail[idx]:\n",
    "                try:\n",
    "                    x_with_zeros[idx,:] = list(list(s.open_list[:-1].values)+list(s.volume_list[:-1].values))\n",
    "                    y.append(s.increase)\n",
    "                except:\n",
    "                    pass\n",
    "                idx+=1\n",
    "        x= np.zeros(shape=(len(y),days*2),dtype=np.int)\n",
    "        zero_num=0\n",
    "        for idx, x_ in enumerate(x_with_zeros):\n",
    "            if np.sum(x_)==0:\n",
    "                pass\n",
    "            else:\n",
    "                x[zero_num,:] = x_\n",
    "                zero_num+=1\n",
    "        self.x = x\n",
    "        self.y = y\n",
    "        self.days=days\n",
    "    def get_xy_par(self,days,par1,par2):\n",
    "        self.get_xy(days)\n",
    "        self.x[:,:days] = self.x[:,:days]*par1\n",
    "        self.x[:,days:] = self.x[:,days:]*par2\n",
    "    def predict(self,clf):\n",
    "        pass"
   ]
  },
  {
   "cell_type": "code",
   "execution_count": 4,
   "metadata": {},
   "outputs": [],
   "source": [
    "samples= [\n",
    "['000040', 'KR모터스'],\n",
    "['000050', '경방'],\n",
    "['000060', '메리츠화재'],\n",
    "['000070', '삼양홀딩스'],\n",
    "['000075', '삼양홀딩스우'],\n",
    "['000080', '하이트진로'],\n",
    "['000087', '하이트진로2우B'],\n",
    "['000100', '유한양행'],\n",
    "['000105', '유한양행우'],\n",
    "['000120', 'CJ대한통운'],\n",
    "['000140', '하이트진로홀딩스'],\n",
    "['000145', '하이트진로홀딩스우'],\n",
    "['000150', '두산'],\n",
    "['000155', '두산우'],\n",
    "['000157', '두산2우B'],\n",
    "]"
   ]
  },
  {
   "cell_type": "code",
   "execution_count": 5,
   "metadata": {},
   "outputs": [],
   "source": [
    "with open('stock_list_small.pickle','rb') as f:\n",
    "    stock_list = pickle.load(f)\n"
   ]
  },
  {
   "cell_type": "code",
   "execution_count": 6,
   "metadata": {},
   "outputs": [],
   "source": [
    "def sorting2(num,days,p1,p2):\n",
    "    so = sample_obj(stock_list,num)\n",
    "    so.get_xy_par(days,p1,p2)\n",
    "    sbf = stock_bot_final(days,p1,p2)\n",
    "    clf = sbf.ret_clf()\n",
    "    sbf.validate()\n",
    "    ret = np.asarray(clf.predict_proba(so.x.reshape(num,-1))[:,1])\n",
    "    print(ret)\n",
    "    sorting_ret = np.argsort(ret*-1)\n",
    "    sorting_ret2 = np.sort(ret*-1)\n",
    "    return sorting_ret,sorting_ret2*-1"
   ]
  },
  {
   "cell_type": "code",
   "execution_count": 7,
   "metadata": {},
   "outputs": [],
   "source": [
    "def sorting(num,days,p1,p2):\n",
    "    so = sample_obj(stock_list,num)\n",
    "    so.get_xy_par(days,p1,p2)\n",
    "    sbf = stock_bot_final(days,p1,p2)\n",
    "    clf = sbf.ret_clf()\n",
    "    sbf.validate()\n",
    "    ret = np.asarray(clf.predict_proba(so.x.reshape(num,-1))[:,1])\n",
    "    print(ret)\n",
    "    sorting_ret = np.argsort(ret*-1)\n",
    "    return sorting_ret"
   ]
  },
  {
   "cell_type": "markdown",
   "metadata": {},
   "source": []
  },
  {
   "cell_type": "code",
   "execution_count": 8,
   "metadata": {
    "scrolled": true
   },
   "outputs": [
    {
     "name": "stdout",
     "output_type": "stream",
     "text": [
      "1066 773\n",
      "[0.42872736 0.50702606 0.49152378 0.51547954 0.48441978 0.48316644\n",
      " 0.48658464 0.62547172 0.57310373 0.37885287 0.49961611 0.49535081\n",
      " 0.52260257 0.50556059 0.46882549]\n"
     ]
    },
    {
     "name": "stderr",
     "output_type": "stream",
     "text": [
      "C:\\Users\\vldb\\anaconda3\\envs\\th\\lib\\site-packages\\sklearn\\linear_model\\_logistic.py:762: ConvergenceWarning: lbfgs failed to converge (status=1):\n",
      "STOP: TOTAL NO. of ITERATIONS REACHED LIMIT.\n",
      "\n",
      "Increase the number of iterations (max_iter) or scale the data as shown in:\n",
      "    https://scikit-learn.org/stable/modules/preprocessing.html\n",
      "Please also refer to the documentation for alternative solver options:\n",
      "    https://scikit-learn.org/stable/modules/linear_model.html#logistic-regression\n",
      "  n_iter_i = _check_optimize_result(\n"
     ]
    }
   ],
   "source": [
    "a = sorting(15,50,0.5,0.05)"
   ]
  },
  {
   "cell_type": "code",
   "execution_count": 10,
   "metadata": {},
   "outputs": [
    {
     "name": "stdout",
     "output_type": "stream",
     "text": [
      "1066 773\n",
      "[0.42872736 0.50702606 0.49152378 0.51547954 0.48441978 0.48316644\n",
      " 0.48658464 0.62547172 0.57310373 0.37885287 0.49961611 0.49535081\n",
      " 0.52260257 0.50556059 0.46882549]\n"
     ]
    },
    {
     "name": "stderr",
     "output_type": "stream",
     "text": [
      "C:\\Users\\vldb\\anaconda3\\envs\\th\\lib\\site-packages\\sklearn\\linear_model\\_logistic.py:762: ConvergenceWarning: lbfgs failed to converge (status=1):\n",
      "STOP: TOTAL NO. of ITERATIONS REACHED LIMIT.\n",
      "\n",
      "Increase the number of iterations (max_iter) or scale the data as shown in:\n",
      "    https://scikit-learn.org/stable/modules/preprocessing.html\n",
      "Please also refer to the documentation for alternative solver options:\n",
      "    https://scikit-learn.org/stable/modules/linear_model.html#logistic-regression\n",
      "  n_iter_i = _check_optimize_result(\n"
     ]
    }
   ],
   "source": [
    "b,c = sorting2(15,50,0.5,0.05)"
   ]
  },
  {
   "cell_type": "code",
   "execution_count": 12,
   "metadata": {},
   "outputs": [
    {
     "data": {
      "text/plain": [
       "array([ 7,  8, 12,  3,  1, 13, 10, 11,  2,  6,  4,  5, 14,  0,  9],\n",
       "      dtype=int64)"
      ]
     },
     "execution_count": 12,
     "metadata": {},
     "output_type": "execute_result"
    }
   ],
   "source": [
    "b"
   ]
  },
  {
   "cell_type": "code",
   "execution_count": 11,
   "metadata": {
    "scrolled": true
   },
   "outputs": [
    {
     "data": {
      "text/plain": [
       "array([0.62547172, 0.57310373, 0.52260257, 0.51547954, 0.50702606,\n",
       "       0.50556059, 0.49961611, 0.49535081, 0.49152378, 0.48658464,\n",
       "       0.48441978, 0.48316644, 0.46882549, 0.42872736, 0.37885287])"
      ]
     },
     "execution_count": 11,
     "metadata": {},
     "output_type": "execute_result"
    }
   ],
   "source": [
    "c"
   ]
  },
  {
   "cell_type": "code",
   "execution_count": 20,
   "metadata": {},
   "outputs": [
    {
     "name": "stdout",
     "output_type": "stream",
     "text": [
      "유한양행\n",
      "유한양행우\n",
      "두산\n",
      "삼양홀딩스\n",
      "경방\n",
      "두산우\n",
      "하이트진로홀딩스\n",
      "하이트진로홀딩스우\n",
      "메리츠화재\n",
      "하이트진로2우B\n",
      "삼양홀딩스우\n",
      "하이트진로\n",
      "두산2우B\n",
      "KR모터스\n",
      "CJ대한통운\n"
     ]
    }
   ],
   "source": [
    "for idx in a:\n",
    "    print(samples[idx][1])"
   ]
  },
  {
   "cell_type": "code",
   "execution_count": null,
   "metadata": {},
   "outputs": [],
   "source": []
  }
 ],
 "metadata": {
  "kernelspec": {
   "display_name": "Python 3",
   "language": "python",
   "name": "python3"
  },
  "language_info": {
   "codemirror_mode": {
    "name": "ipython",
    "version": 3
   },
   "file_extension": ".py",
   "mimetype": "text/x-python",
   "name": "python",
   "nbconvert_exporter": "python",
   "pygments_lexer": "ipython3",
   "version": "3.8.5"
  }
 },
 "nbformat": 4,
 "nbformat_minor": 4
}
