{
 "cells": [
  {
   "cell_type": "code",
   "execution_count": 1,
   "metadata": {},
   "outputs": [],
   "source": [
    "import pandas_datareader.data as web\n",
    "import datetime\n",
    "import pandas as pd\n",
    "import pandas_datareader as pdr\n",
    "import numpy as np\n",
    "import pickle\n",
    "from sklearn.linear_model import LogisticRegression"
   ]
  },
  {
   "cell_type": "code",
   "execution_count": 2,
   "metadata": {},
   "outputs": [],
   "source": [
    "class stock:\n",
    "    def __init__(self,code,gs):\n",
    "        self.code = code\n",
    "        self.gs = gs\n",
    "    def get_data(self,days):\n",
    "        self.open_list = self.gs['Open'][-days-1:]\n",
    "        self.volume_list = self.gs['Volume'][-days-1:]\n",
    "        if self.open_list[-2] < self.open_list[-1]:\n",
    "            self.increase = True\n",
    "        else:\n",
    "            self.increase = False\n",
    "\n",
    "class x_y:\n",
    "    def __init__(self,days):\n",
    "        with open('stock_list_small.pickle','rb') as f:\n",
    "            stock_list = pickle.load(f)\n",
    "        pass_fail = []\n",
    "        for stock in stock_list:\n",
    "            try:\n",
    "                stock.get_data(days)\n",
    "                pass_fail.append(True)\n",
    "            except:\n",
    "                pass_fail.append(False)\n",
    "        x_with_zeros= np.zeros(shape=(np.sum(pass_fail),days*2),dtype=np.int)\n",
    "        y=[]\n",
    "        idx=0\n",
    "        for idx, s in enumerate(stock_list):\n",
    "            if pass_fail[idx]:\n",
    "                try:\n",
    "                    x_with_zeros[idx,:] = list(list(s.open_list[:-1].values)+list(s.volume_list[:-1].values))\n",
    "                    y.append(s.increase)\n",
    "                except:\n",
    "                    pass\n",
    "                idx+=1\n",
    "        x= np.zeros(shape=(len(y),days*2),dtype=np.int)\n",
    "        zero_num=0\n",
    "        for idx, x_ in enumerate(x_with_zeros):\n",
    "            if np.sum(x_)==0:\n",
    "                pass\n",
    "            else:\n",
    "                x[zero_num,:] = x_\n",
    "                zero_num+=1\n",
    "        self.x = x\n",
    "        self.y = y\n",
    "        self.days=days\n",
    "\n",
    "class stock_bot:\n",
    "    def __init__(self,x,y,days):\n",
    "        self.org_x = x.copy()\n",
    "        self.org_y = y.copy()\n",
    "        self.days = days\n",
    "        self.x = x.copy()\n",
    "        self.y = y.copy()\n",
    "    def set_org(self):\n",
    "        self.x = self.org_x\n",
    "        self.y = self.org_y\n",
    "    def set_x_price_par(self,p):\n",
    "        self.x[:,:self.days] = self.org_x[:,:self.days]*p\n",
    "    def set_x_volume_par(self,p):\n",
    "        self.x[:,self.days:] = self.org_x[:,self.days:]*p\n",
    "    def ret_clf(self):\n",
    "        return LogisticRegression(random_state=0).fit(self.x,self.y)\n",
    "\n",
    "class stock_bot_final:\n",
    "    def __init__(self,days,p1,p2):\n",
    "        self.xy = x_y(days)\n",
    "        self.sb = stock_bot(self.xy.x,self.xy.y,self.xy.days)\n",
    "        self.sb.set_x_price_par(p1)\n",
    "        self.sb.set_x_volume_par(p2)\n",
    "    def ret_clf(self):\n",
    "        self.clf= LogisticRegression(random_state=0).fit(self.sb.x,self.sb.y)\n",
    "        return self.clf\n",
    "    def validate(self):\n",
    "        right=0\n",
    "        wrong = 0 \n",
    "        for idx, x_ in enumerate(self.xy.x):\n",
    "            if(self.clf.predict(x_.reshape(1,-1))[0]==self.xy.y[idx]):\n",
    "                right+=1\n",
    "            else:\n",
    "                wrong+=1\n",
    "        print(right,wrong)        "
   ]
  },
  {
   "cell_type": "code",
   "execution_count": null,
   "metadata": {},
   "outputs": [],
   "source": []
  },
  {
   "cell_type": "code",
   "execution_count": 3,
   "metadata": {
    "scrolled": true
   },
   "outputs": [
    {
     "name": "stdout",
     "output_type": "stream",
     "text": [
      "1009 834\n"
     ]
    },
    {
     "name": "stderr",
     "output_type": "stream",
     "text": [
      "C:\\Users\\vldb\\anaconda3\\envs\\th\\lib\\site-packages\\sklearn\\linear_model\\_logistic.py:762: ConvergenceWarning: lbfgs failed to converge (status=1):\n",
      "STOP: TOTAL NO. of ITERATIONS REACHED LIMIT.\n",
      "\n",
      "Increase the number of iterations (max_iter) or scale the data as shown in:\n",
      "    https://scikit-learn.org/stable/modules/preprocessing.html\n",
      "Please also refer to the documentation for alternative solver options:\n",
      "    https://scikit-learn.org/stable/modules/linear_model.html#logistic-regression\n",
      "  n_iter_i = _check_optimize_result(\n"
     ]
    }
   ],
   "source": [
    "sbf = stock_bot_final(10,0.5,0.1)\n",
    "\n",
    "clf = sbf.ret_clf()\n",
    "\n",
    "sbf.validate()"
   ]
  },
  {
   "cell_type": "code",
   "execution_count": 5,
   "metadata": {
    "scrolled": true
   },
   "outputs": [
    {
     "name": "stdout",
     "output_type": "stream",
     "text": [
      "1038 805\n"
     ]
    },
    {
     "name": "stderr",
     "output_type": "stream",
     "text": [
      "C:\\Users\\vldb\\anaconda3\\envs\\th\\lib\\site-packages\\sklearn\\linear_model\\_logistic.py:762: ConvergenceWarning: lbfgs failed to converge (status=1):\n",
      "STOP: TOTAL NO. of ITERATIONS REACHED LIMIT.\n",
      "\n",
      "Increase the number of iterations (max_iter) or scale the data as shown in:\n",
      "    https://scikit-learn.org/stable/modules/preprocessing.html\n",
      "Please also refer to the documentation for alternative solver options:\n",
      "    https://scikit-learn.org/stable/modules/linear_model.html#logistic-regression\n",
      "  n_iter_i = _check_optimize_result(\n"
     ]
    }
   ],
   "source": [
    "sbf = stock_bot_final(20,0.5,0.01)\n",
    "\n",
    "clf = sbf.ret_clf()\n",
    "\n",
    "sbf.validate()"
   ]
  },
  {
   "cell_type": "code",
   "execution_count": null,
   "metadata": {},
   "outputs": [],
   "source": [
    "clf.predict_prob()"
   ]
  }
 ],
 "metadata": {
  "kernelspec": {
   "display_name": "Python 3",
   "language": "python",
   "name": "python3"
  },
  "language_info": {
   "codemirror_mode": {
    "name": "ipython",
    "version": 3
   },
   "file_extension": ".py",
   "mimetype": "text/x-python",
   "name": "python",
   "nbconvert_exporter": "python",
   "pygments_lexer": "ipython3",
   "version": "3.8.5"
  }
 },
 "nbformat": 4,
 "nbformat_minor": 4
}
